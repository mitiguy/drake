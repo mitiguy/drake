{
 "cells": [
  {
   "cell_type": "markdown",
   "metadata": {},
   "source": [
    "# Hydroelastic contact between a compliant box and a rigid box\n",
    "Damrong Guoy\n",
    "\n",
    "From source installation of Drake, start this notebook by:\n",
    "```\n",
    "drake $ bazel run //tutorials:hydro_box_with_contact_results\n",
    "```\n",
    "\n",
    "This tutorial follows the pattern of [authoring_multibody_simulation.ipynb](./authoring_multibody_simulation.ipynb) by Zach Feng. If you are not familiar with Drake, you might want to study that one first."
   ]
  },
  {
   "cell_type": "markdown",
   "metadata": {},
   "source": [
    "# Introduction\n",
    "\n",
    "This tutorial shows you how to set up simulations with hydroelastic contacts. It also shows you how to report contact results numerically and visualize them in MeshCat.\n",
    "\n",
    "Originally this contact model was invented by Ryan Elandt as *Pressure Field Contact*. In Drake, we call our implmentation *Hydroelastic Contact*. The abstract of [Ryan Elandt's dissertation](https://ecommons.cornell.edu/handle/1813/112919) says:\n",
    "\n",
    "> \"*...This model is useful in situations where deformation in the contact region is qualitatively important, but need not be accurate. PFC is a model of, and not a convergent approximation of, continuum mechanics. In PFC, each of the two contacting objects is assigned an immutable internal virtual pressure' field. ... the PFC contact surface is defined as the set of points where the two pressure fields are equal. ...*\"\n",
    "\n",
    "If you are not familiar with hydroelastic contact, please read these two Medium articles:\n",
    "\n",
    "- [Rethinking Contact Simulation for Robot Manipulation](https://medium.com/toyotaresearch/rethinking-contact-simulation-for-robot-manipulation-434a56b5ec88)\n",
    "- [Drake: Model-based design in the age of robotics and machine learning.](https://medium.com/toyotaresearch/drake-model-based-design-in-the-age-of-robotics-and-machine-learning-59938c985515)\n",
    "\n",
    "Hydroelastic contact is faster than Finite Element model but less accurate. Hydroelastic contact is slower than point contact (used in most simulators including Drake as the default) but exhibits more stable behavior in challenging situations involving rolling friction, energy dissipation, and non-convex geometries.\n",
    "\n",
    "For simplicity, this tutorial shows contacts between a rigid hydroelastic geometry and a compliant hydroelastic geometry. Both of them are rigid in the sense of rigid body dynamics. They do not have mechanical deformation. In our implementation, a compliant hydroelastic geometry has a pressure field representation (on a tetrahedral mesh, for example), but a rigid hydroelastic geometry only has a boundary surface representation (a triangle surface mesh, for example). Their contact patch always lies on the surface of the rigid hydroelastic geometry.\n",
    "\n",
    "We will have another tutorial to show contacts between two compliant hydroelastic geometries. Their contact patch will be the surface of points where their pressure fields are equal.\n",
    "\n",
    "This tutorial uses boxes as geometric primitives. We will have another tutorial to use meshes for hydroelastic contacts."
   ]
  },
  {
   "cell_type": "markdown",
   "metadata": {},
   "source": [
    "## Outline\n",
    "\n",
    "This tutorial will show you how to:\n",
    "\n",
    "1. Define SDFormat string for a compliant hydroelastic box.\n",
    "\n",
    "    * Define a visual geometry.\n",
    "    * Define a collision geometry with hydroelastic properties.\n",
    "    * Define mass and inertia properties.\n",
    "\n",
    "\n",
    "2. Define SDFormat string for a rigid hydroelastic box.\n",
    "\n",
    "3. Create Diagram of MultibodyPlant using the two boxes.\n",
    "\n",
    "4. Visualize the simulation.\n",
    "\n",
    "5. Create a leaf system to numerically report contact results at the end of simulation.\n",
    "\n",
    "6. Add ContactVisualizer to visualize contact results."
   ]
  },
  {
   "cell_type": "markdown",
   "metadata": {},
   "source": [
    "## Start MeshCat\n",
    "\n",
    "We will use MeshCat for visualization in another window. After `StartMeshcat()` below, move the MeshCat tab out as a separated window, so you can see both this notebook and the MeshCat window at the same time.\n",
    "\n",
    "**Explain what is MeschCat**\n",
    "**Record and playback**\n",
    "**drake_visualizer is going away**\n",
    "**Meshcat slidebar..more later**\n",
    "**Third-party Meshcat**\n",
    "**SSH? other computer**\n",
    "\n",
    "![StartMeshcat](./images/StartMeshcat.png)"
   ]
  },
  {
   "cell_type": "code",
   "execution_count": 1,
   "metadata": {},
   "outputs": [
    {
     "name": "stderr",
     "output_type": "stream",
     "text": [
      "INFO:drake:Meshcat listening for connections at http://localhost:7000\n"
     ]
    }
   ],
   "source": [
    "from pydrake.geometry import StartMeshcat\n",
    "\n",
    "# Start the visualizer. The cell will output an HTTP link after the execution.\n",
    "# Click the link and a MeshCat tab should appear in your browser.\n",
    "meshcat = StartMeshcat()"
   ]
  },
  {
   "cell_type": "markdown",
   "metadata": {},
   "source": [
    "## Create compliant hydroelastic box\n",
    "\n",
    "*Make sure you have the MeshCat tab opened in your browser; the link is shown immediately above.*\n",
    "\n",
    "We will create and visualize a compliant hydroelastic box with SDFormat string.\n",
    "\n",
    "We will use `ModelVisualizer` to verify the SDFormat description. It will tell MeshCat to show the box."
   ]
  },
  {
   "cell_type": "markdown",
   "metadata": {},
   "source": [
    "### Visual geometry\n",
    "\n",
    "First we create a visual geometry of a box of size 10cm x 20cm x 40cm. Observe in MeshCat the X(red), Y(green), and Z(blue) axes. The `<size>0.10 0.20 0.40</size>` specifies the dimensions of the box in meters. The `<diffuse>` tag specifies the RGB and alpha values between 0 and 1.\n",
    "\n",
    "![CompliantBox](./images/compliant_box.png)"
   ]
  },
  {
   "cell_type": "code",
   "execution_count": 2,
   "metadata": {},
   "outputs": [
    {
     "data": {
      "text/plain": [
       "<RunResult.STOPPED: 2>"
      ]
     },
     "execution_count": 2,
     "metadata": {},
     "output_type": "execute_result"
    }
   ],
   "source": [
    "from pydrake.visualization import ModelVisualizer\n",
    "\n",
    "visual_box_sdf = \"\"\"<?xml version=\"1.0\"?>\n",
    "<sdf version=\"1.7\">\n",
    "  <model name=\"CompliantBox\">\n",
    "    <pose>0 0 0 0 0 0</pose>\n",
    "    <link name=\"compliant_box\">\n",
    "      <visual name=\"visual\">\n",
    "        <geometry>\n",
    "          <box>\n",
    "            <size>0.10 0.20 0.40</size>\n",
    "          </box>\n",
    "        </geometry>\n",
    "        <material>\n",
    "          <diffuse>1.0 1.0 1.0 0.5</diffuse>\n",
    "        </material>\n",
    "      </visual>\n",
    "    </link>\n",
    "  </model>\n",
    "</sdf>\n",
    "\"\"\"\n",
    "\n",
    "# Visualize the SDFormat string you just defined.\n",
    "visualizer = ModelVisualizer(meshcat=meshcat)\n",
    "visualizer.parser().AddModelsFromString(visual_box_sdf, \"sdf\")\n",
    "visualizer.Run(loop_once=True)"
   ]
  },
  {
   "cell_type": "markdown",
   "metadata": {},
   "source": [
    "### Collision geometry with hydroelastic properties\n",
    "\n",
    "We will add the `<collision>` block with hydroelastic properties. Without `<collision>`, our object cannot make contact in the simulation.\n",
    "\n",
    "We specify the same collision geometry (box of size 10x20x40 centimeters) as the visual geometry.\n",
    "\n",
    "Drake also uses the term proximity for collision. This is the `<drake:proximity_properties>` block that control hydroelastic contacts:\n",
    "\n",
    "        <drake:proximity_properties>\n",
    "          <drake:compliant_hydroelastic/>\n",
    "          <drake:hydroelastic_modulus>1e7</drake:hydroelastic_modulus>\n",
    "          <drake:mu_dynamic>0.5</drake:mu_dynamic>\n",
    "          <drake:hunt_crossley_dissipation>1.25</drake:hunt_crossley_dissipation>\n",
    "          <drake:relaxation_time>0.1</drake:relaxation_time>\n",
    "        </drake:proximity_properties>\n",
    "\n",
    "Use `<drake:compliant_hydroelastic/>` to specify a compliant object.\n",
    "\n",
    "We set `<drake:hydroelastic_modulus>` to 1e7 Pascals. It is comparable to high-density polyethylene (HDPE) with 1 GPa Young's modulus. Hydroelastic modulus is not a physical property but rather a numerical parameter to tune our contact model. As a rule of thumb, set hydroelastic modulus to about 1/100 of Young's modulus. \n",
    "\n",
    "We set `<drake:mu_dynamic>` (unitless) for the friction coefficient.\n",
    "\n",
    "We set `<drake:hunt_crossley_dissipation>` to 1.25 seconds/meter as the dissipation constant for TAMSI contact solver, and we set `<drake:relaxation_time>` to 0.1 seconds as the dissipation constant for SAP contact solver. Here we set both of them, so we can switch between the two solvers. In the future, we expect SAP to support Hunt & Crossley dissipation model. See *Hydroelastic contact* in [MultibodyPlant](https://drake.mit.edu/doxygen_cxx/classdrake_1_1multibody_1_1_multibody_plant.html) documentation."
   ]
  },
  {
   "cell_type": "code",
   "execution_count": 3,
   "metadata": {},
   "outputs": [
    {
     "data": {
      "text/plain": [
       "<RunResult.STOPPED: 2>"
      ]
     },
     "execution_count": 3,
     "metadata": {},
     "output_type": "execute_result"
    }
   ],
   "source": [
    "from pydrake.visualization import ModelVisualizer\n",
    "\n",
    "collision_box_sdf = \"\"\"<?xml version=\"1.0\"?>\n",
    "<sdf version=\"1.7\">\n",
    "  <model name=\"CompliantBox\">\n",
    "    <pose>0 0 0 0 0 0</pose>\n",
    "    <link name=\"compliant_box\">\n",
    "      <collision name=\"collision\">\n",
    "        <geometry>\n",
    "          <box>\n",
    "            <size>0.10 0.20 0.40</size>\n",
    "          </box>\n",
    "        </geometry>\n",
    "        <drake:proximity_properties>\n",
    "          <drake:compliant_hydroelastic/>\n",
    "          <drake:hydroelastic_modulus>1e7</drake:hydroelastic_modulus>\n",
    "          <drake:mu_dynamic>0.5</drake:mu_dynamic>\n",
    "          <drake:hunt_crossley_dissipation>1.25</drake:hunt_crossley_dissipation>\n",
    "          <drake:relaxation_time>0.1</drake:relaxation_time>\n",
    "        </drake:proximity_properties>\n",
    "      </collision>\n",
    "      <visual name=\"visual\">\n",
    "        <geometry>\n",
    "          <box>\n",
    "            <size>0.10 0.20 0.40</size>\n",
    "          </box>\n",
    "        </geometry>\n",
    "        <material>\n",
    "          <diffuse>1.0 1.0 1.0 0.5</diffuse>\n",
    "        </material>\n",
    "      </visual>\n",
    "    </link>\n",
    "  </model>\n",
    "</sdf>\n",
    "\"\"\"\n",
    "\n",
    "# Visualize the SDFormat string you just defined.\n",
    "visualizer = ModelVisualizer(meshcat=meshcat)\n",
    "visualizer.parser().AddModelsFromString(collision_box_sdf, \"sdf\")\n",
    "visualizer.Run(loop_once=True)"
   ]
  },
  {
   "cell_type": "markdown",
   "metadata": {},
   "source": [
    "### Mass property and inertia matrix\n",
    "\n",
    "In order to simulate dynamics, we will add `<mass>` of 1kg and `<inertia>` matrix.\n",
    "\n",
    "The `<inertia>` of the box follows this formula:\n",
    "\n",
    "    Ixx = m(s.y² + s.z²)/12\n",
    "    Iyy = m(s.x² + s.z²)/12\n",
    "    Izz = m(s.x² + s.y²)/12\n",
    "    \n",
    "In practice, we can use `UnitInertia.SolidBox()` as shown below and copy the numbers into SDFormat string afterwards."
   ]
  },
  {
   "cell_type": "code",
   "execution_count": 4,
   "metadata": {},
   "outputs": [
    {
     "name": "stdout",
     "output_type": "stream",
     "text": [
      "[[0.01666667 0.         0.        ]\n",
      " [0.         0.01416667 0.        ]\n",
      " [0.         0.         0.00416667]]\n"
     ]
    }
   ],
   "source": [
    "from pydrake.multibody.tree import UnitInertia\n",
    "\n",
    "# box of size 0.1 x 0.2 x 0.4 meters\n",
    "unit_inertia = UnitInertia.SolidBox(Lx=0.1, Ly=0.2, Lz=0.4)\n",
    "# mass 1 kg\n",
    "mass = 1\n",
    "\n",
    "inertia_matrix3 = mass * unit_inertia.CopyToFullMatrix3()\n",
    "\n",
    "print(inertia_matrix3)"
   ]
  },
  {
   "cell_type": "code",
   "execution_count": 5,
   "metadata": {},
   "outputs": [
    {
     "data": {
      "text/plain": [
       "<RunResult.STOPPED: 2>"
      ]
     },
     "execution_count": 5,
     "metadata": {},
     "output_type": "execute_result"
    }
   ],
   "source": [
    "from pydrake.visualization import ModelVisualizer\n",
    "\n",
    "# Define a compliant hydroelastic box.\n",
    "compliant_box_sdf = \"\"\"<?xml version=\"1.0\"?>\n",
    "<sdf version=\"1.7\">\n",
    "  <model name=\"CompliantBox\">\n",
    "    <pose>0 0 0 0 0 0</pose>\n",
    "    <link name=\"compliant_box\">\n",
    "      <inertial>\n",
    "        <mass>1.0</mass>\n",
    "        <inertia>\n",
    "          <ixx>0.016666</ixx> <ixy>0.0</ixy> <ixz>0.0</ixz>\n",
    "          <iyy>0.014166</iyy> <iyz>0.0</iyz>\n",
    "          <izz>0.004166</izz>\n",
    "        </inertia>\n",
    "      </inertial>\n",
    "      <collision name=\"collision\">\n",
    "        <geometry>\n",
    "          <box>\n",
    "            <size>0.10 0.20 0.40</size>\n",
    "          </box>\n",
    "        </geometry>\n",
    "        <drake:proximity_properties>\n",
    "          <drake:compliant_hydroelastic/>\n",
    "          <drake:hydroelastic_modulus>1e7</drake:hydroelastic_modulus>\n",
    "          <drake:mu_dynamic>0.5</drake:mu_dynamic>\n",
    "          <drake:hunt_crossley_dissipation>1.25</drake:hunt_crossley_dissipation>\n",
    "          <drake:relaxation_time>0.1</drake:relaxation_time>\n",
    "        </drake:proximity_properties>\n",
    "      </collision>\n",
    "      <visual name=\"visual\">\n",
    "        <geometry>\n",
    "          <box>\n",
    "            <size>0.10 0.20 0.40</size>\n",
    "          </box>\n",
    "        </geometry>\n",
    "        <material>\n",
    "          <diffuse>1.0 1.0 1.0 0.5</diffuse>\n",
    "        </material>\n",
    "      </visual>\n",
    "    </link>\n",
    "  </model>\n",
    "</sdf>\n",
    "\"\"\"\n",
    "\n",
    "# Visualize the SDFormat string you just defined.\n",
    "visualizer = ModelVisualizer(meshcat=meshcat)\n",
    "visualizer.parser().AddModelsFromString(compliant_box_sdf, \"sdf\")\n",
    "visualizer.Run(loop_once=True)"
   ]
  },
  {
   "cell_type": "markdown",
   "metadata": {},
   "source": [
    "## Create rigid hydroelastic box\n",
    "\n",
    "The following SDFormat string specifies a rigid hydroelastic box. It is similar to the compliant hydroelastic box.\n",
    "\n",
    "Both the `<visual>` and `<collision>` geometries are a box of size 60cm x 1m x 5cm. Observe in MeshCat the X(red), Y(green), and Z(blue) axes.\n",
    "\n",
    "![RigidBox](./images/rigid_box.png)\n",
    "\n",
    "\n",
    "Use the tag `<drake:rigid_hydroelastic/>` to specify a rigid hydroelastic geometry. It does not use `<drake:hydroelastic_modulus>`. Conceptually it has infinite hydroelastic modulus.\n",
    "\n",
    "This rigid hydroelastic box uses the same friction coefficient and dissipation constants as the previous compliant hydroelastic box.\n",
    "\n",
    "We do not specify `<mass>` and `<inertia>` of the rigid box because, in the next section when we set up `Diagram`, we will fix the rigid box to the world frame. It will not move.\n",
    "    \n",
    "The `<frame name=\"top_surface\">` is a frame at the top of the box with the tag:\n",
    "\n",
    "    <pose relative_to=\"rigid_box_link\">0 0 0.025 0 0 0</pose>\n",
    "\n",
    "It is at 2.5cm (half of the box's height) above the center of the box. In the next section, we will create a scene that places the `top_surface` frame at the world's origin."
   ]
  },
  {
   "cell_type": "code",
   "execution_count": 6,
   "metadata": {},
   "outputs": [
    {
     "data": {
      "text/plain": [
       "<RunResult.STOPPED: 2>"
      ]
     },
     "execution_count": 6,
     "metadata": {},
     "output_type": "execute_result"
    }
   ],
   "source": [
    "from pydrake.visualization import ModelVisualizer\n",
    "\n",
    "# Create a rigid-hydroelastic table top\n",
    "rigid_box_sdf = \"\"\"<?xml version=\"1.0\"?>\n",
    "<sdf version=\"1.7\">\n",
    "  <model name=\"RigidBox\">\n",
    "    <link name=\"rigid_box_link\">\n",
    "      <visual name=\"visual\">\n",
    "        <pose>0 0 0 0 0 0</pose>\n",
    "        <geometry>\n",
    "          <box>\n",
    "            <size>0.6 1.0 0.05</size>\n",
    "          </box>\n",
    "        </geometry>\n",
    "        <material>\n",
    "         <diffuse>0.9 0.8 0.7 0.5</diffuse>\n",
    "        </material>\n",
    "      </visual>\n",
    "      <collision name=\"collision\">\n",
    "        <pose>0 0 0 0 0 0</pose>\n",
    "        <geometry>\n",
    "          <box>\n",
    "            <size>0.6 1.0 0.05</size>\n",
    "          </box>\n",
    "        </geometry>\n",
    "        <drake:proximity_properties>\n",
    "          <drake:rigid_hydroelastic/>\n",
    "          <drake:mu_dynamic>0.5</drake:mu_dynamic>\n",
    "          <drake:hunt_crossley_dissipation>1.25</drake:hunt_crossley_dissipation>\n",
    "          <drake:relaxation_time>0.1</drake:relaxation_time>\n",
    "        </drake:proximity_properties>\n",
    "      </collision>\n",
    "    </link>\n",
    "    <frame name=\"top_surface\">\n",
    "      <pose relative_to=\"rigid_box_link\">0 0 0.025 0 0 0</pose>\n",
    "    </frame>\n",
    "  </model>\n",
    "</sdf>\n",
    "\n",
    "\"\"\"\n",
    "\n",
    "# Visualize the SDFormat string you just defined.\n",
    "visualizer = ModelVisualizer(meshcat=meshcat)\n",
    "visualizer.parser().AddModelsFromString(rigid_box_sdf, \"sdf\")\n",
    "visualizer.Run(loop_once=True)"
   ]
  },
  {
   "cell_type": "markdown",
   "metadata": {},
   "source": [
    "## Create Diagram of the scene\n",
    "\n",
    "The function `create_scene()` below creates a scene using the two boxes that we created.\n",
    "\n",
    "It uses `DiagramBuilder` to create `MultibodyPlant` and `SceneGraph`. It uses `Parser` to add the two SDFormat strings of the two boxes into `Diagram` of the scene.\n",
    "\n",
    "It fixes the rigid box's top surface to the world frame by calling `WeldFrames()`.\n",
    "\n",
    "It places the compliant box 1 meter above the rigid box.\n",
    "\n",
    "After this step, the next section will add visualization to `DiagramBuilder`."
   ]
  },
  {
   "cell_type": "code",
   "execution_count": 7,
   "metadata": {},
   "outputs": [],
   "source": [
    "from pydrake.math import RigidTransform\n",
    "from pydrake.multibody.parsing import Parser\n",
    "from pydrake.multibody.plant import AddMultibodyPlant, MultibodyPlantConfig\n",
    "from pydrake.systems.framework import DiagramBuilder\n",
    "\n",
    "def create_scene(time_step=1e-3, solver=\"tamsi\"):\n",
    "    # Clear MeshCat window from the previous blocks.\n",
    "    meshcat.Delete()\n",
    "    meshcat.DeleteAddedControls()\n",
    "\n",
    "    builder = DiagramBuilder()\n",
    "    plant, scene_graph = AddMultibodyPlant(\n",
    "        MultibodyPlantConfig(\n",
    "            time_step=time_step,\n",
    "            discrete_contact_solver=solver),\n",
    "        builder)\n",
    "    parser = Parser(plant)\n",
    "\n",
    "    # Load the table top and the box we created.\n",
    "    parser.AddModelsFromString(compliant_box_sdf, \"sdf\")\n",
    "    parser.AddModelsFromString(rigid_box_sdf, \"sdf\")\n",
    "\n",
    "    # Weld the rigid box to the world so that it's fixed during simulation.\n",
    "    # The top surface passes the world's origin.\n",
    "    plant.WeldFrames(plant.world_frame(), \n",
    "                     plant.GetFrameByName(\"top_surface\"))\n",
    "\n",
    "    # Finalize the plant after loading the scene.\n",
    "    plant.Finalize()\n",
    "\n",
    "    # Set how high the center of the compliant box is from the world's origin. \n",
    "    # W = the world's frame\n",
    "    # C = frame at the center of the compliant box\n",
    "    X_WC = RigidTransform(p=[0, 0, 1])\n",
    "    plant.SetDefaultFreeBodyPose(plant.GetBodyByName(\"compliant_box\"), X_WC)\n",
    "\n",
    "    return builder, plant"
   ]
  },
  {
   "cell_type": "markdown",
   "metadata": {},
   "source": [
    "## Set up visualization of the simulation\n",
    "\n",
    "The function `create_scene()` above does not have visualization, so we will do it in the function `create_scene_and_viz()` below.\n",
    "\n",
    "It uses `DiagramBuilder` from `create_scene()`. The `meshcat` interface represents the same MeshCat window that we have been using.\n",
    "\n",
    "We set the `publish_period` to 1/256, so we can publish 256 frames per simulated second. In this example, we publish quite frequently, so later we can appreciate dynamics better.  See [VisualizationConfig](https://drake.mit.edu/doxygen_cxx/structdrake_1_1visualization_1_1_visualization_config.html) for more details.\n",
    "\n",
    "At this step we set `publish_contacts` to `False`, we will set up contact visualization near the end of this tutorial.\n",
    "\n",
    "We test the creation of `Diagram` by simulating for 0 second. It shows the compliant box 1 meter above the rigid box. You might have to zoom out to see both boxes.\n",
    "\n",
    "![CompliantAboveRigidBox](./images/compliant_above_rigid_box.png)\n"
   ]
  },
  {
   "cell_type": "code",
   "execution_count": 8,
   "metadata": {},
   "outputs": [
    {
     "data": {
      "text/plain": [
       "<pydrake.systems.analysis.SimulatorStatus at 0x7f3e50fc7770>"
      ]
     },
     "execution_count": 8,
     "metadata": {},
     "output_type": "execute_result"
    }
   ],
   "source": [
    "from pydrake.visualization import ApplyVisualizationConfig, VisualizationConfig\n",
    "\n",
    "def create_scene_and_viz(time_step=1e-3, solver=\"tamsi\"):\n",
    "    builder, plant = create_scene(time_step, solver)\n",
    "\n",
    "    ApplyVisualizationConfig(\n",
    "        config=VisualizationConfig(\n",
    "                   publish_period = 1 / 256.0,\n",
    "                   publish_contacts = False),\n",
    "        builder=builder, meshcat=meshcat)\n",
    "    \n",
    "    return builder, plant\n",
    "\n",
    "\n",
    "from pydrake.systems.analysis import Simulator\n",
    "\n",
    "# Test creation of the diagram by simulating for 0 second.\n",
    "# For now, use only the DiagramBuilder from the first return value and\n",
    "# ignore the other two return values. We will use them later.\n",
    "builder = create_scene_and_viz()[0]\n",
    "simulator = Simulator(builder.Build())\n",
    "simulator.Initialize()\n",
    "simulator.AdvanceTo(0)"
   ]
  },
  {
   "cell_type": "markdown",
   "metadata": {},
   "source": [
    "## Run the simulation\n",
    "\n",
    "We define the function `run_simulation()` below. It builds `Diagram` using `DiagramBuilder` from the previous step. It passes `Diagram` to `Simulator`. It also records simulation result into `meshcat` for playback later. You should see the compliant box drops down to make contact with the rigid box."
   ]
  },
  {
   "cell_type": "code",
   "execution_count": 9,
   "metadata": {},
   "outputs": [],
   "source": [
    "from pydrake.systems.analysis import Simulator\n",
    "\n",
    "def run_simulation(sim_time, time_step=1e-3, solver=\"tamsi\"):\n",
    "    builder, plant = create_scene_and_viz(time_step, solver)\n",
    "    \n",
    "    diagram = builder.Build()\n",
    "    \n",
    "    simulator = Simulator(diagram)\n",
    "    simulator.Initialize()\n",
    "    simulator.set_target_realtime_rate(1.)\n",
    "    \n",
    "    meshcat.StartRecording(frames_per_second=256.0)\n",
    "    simulator.AdvanceTo(sim_time)\n",
    "    meshcat.StopRecording()\n",
    "\n",
    "\n",
    "run_simulation(sim_time=10)"
   ]
  },
  {
   "cell_type": "markdown",
   "metadata": {},
   "source": [
    "## Playback recording of the simulation\n",
    "\n",
    "The following command `meshcat.PublishRecording()` will create a playback in MeshCat tab. It will enable `Animations` panel in MeshCat tab."
   ]
  },
  {
   "cell_type": "code",
   "execution_count": 10,
   "metadata": {},
   "outputs": [],
   "source": [
    "meshcat.PublishRecording()"
   ]
  },
  {
   "cell_type": "markdown",
   "metadata": {},
   "source": [
    "In MeshCat window, click on `Open Controls` if you haven't done it. You should see `Animations` panel that look like this picture:\n",
    "\n",
    "![Meshcat_play_pause_reset](./images/Meshcat_play_pause_reset.png)\n",
    "\n",
    "\n",
    "Use the **play** button to replay the animation.\n",
    "\n",
    "Adjust **timeScale** to control animation speed. Set it to 0.1 for slower playback to appreciate dynamics.\n",
    "\n",
    "Use **pause** to stop animation in the middle, and use **reset** to move the animation back to time 0.\n",
    "\n",
    "\n",
    "During the playback, you should see the compliant box drops down to make contact with the rigid box and bounces back at about 0.4s simulated time. The gravity will pull it down to make contact again. It will rock back and forth for a few seconds and reach steady state after about 6 seconds simulated time.\n",
    "\n",
    "You can type **time** in the `Animations` panel to go to a particular snapshot in the animation. These pictures show some snapshots of the animation.\n",
    "\n",
    "![CompliantRigidBoxAt0s](./images/compliant_rigid_box_00.0s.png)\n",
    "![CompliantRigidBoxat0.4s](./images/compliant_rigid_box_00.4s.png)"
   ]
  },
  {
   "cell_type": "markdown",
   "metadata": {},
   "source": [
    "# Report contact results numerically\n",
    "\n",
    "We will show you how to report contact results. We will create a simple system to read contact results from `MultibodyPlant` and print them at the end of simulation."
   ]
  },
  {
   "cell_type": "markdown",
   "metadata": {},
   "source": [
    "## Use a simple system to publish contact results\n",
    "\n",
    "If you are not familiar with creating a leaf system, please see the tutorial [Authoring Leaf Systems](./authoring_leaf_systems.ipynb).\n",
    "\n",
    "We will define a leaf system called `ContactReporter` below. It has an input port that takes `ContactResults`. When there is a forced publish event, it will print the contact results from its input port. See `Publish(self, context)` in the code below. \n",
    "\n",
    "Contact results are available from an output port of `MultibodyPlant` by calling `get_contact_results_output_port()`. In `create_scene_with_contact_report()` below, we add `ContactReporter` to the diagram that we defined in the previous section. Then, we connect the contact results output port of `MultibodyPlant` to the input port of our `ContactReporter`. \n",
    "\n",
    "Our example has only one cotact patch between two geometries. However, the code below can report all contact patches from all pairs of geometries from hydroelastics.\n",
    "\n",
    "See [ContactResults](https://drake.mit.edu/doxygen_cxx/classdrake_1_1multibody_1_1_contact_results.html) and [HydroelasticContactInfo](https://drake.mit.edu/doxygen_cxx/classdrake_1_1multibody_1_1_hydroelastic_contact_info.html) for more details.\n",
    "\n",
    "\n",
    "**Periodic publish events***\n",
    "**How to publish frequently**\n",
    "**Witness event, when box contact***\n",
    "**Report contact at my own frequency**"
   ]
  },
  {
   "cell_type": "code",
   "execution_count": 11,
   "metadata": {},
   "outputs": [],
   "source": [
    "from pydrake.systems.framework import LeafSystem\n",
    "from pydrake.common.value import AbstractValue\n",
    "from pydrake.multibody.plant import ContactResults\n",
    "\n",
    "class HydroelasticContactReporter(LeafSystem):\n",
    "    def __init__(self):\n",
    "        super().__init__()  # Don't forget to initialize the base class.\n",
    "        self.DeclareAbstractInputPort(\n",
    "            name=\"contact_results\",\n",
    "            model_value=AbstractValue.Make(\n",
    "                # Input port will take ContactResults from MultibodyPlant\n",
    "                ContactResults()))\n",
    "        # Calling `ForcedPublish()` will trigger the callback.\n",
    "        self.DeclareForcedPublishEvent(self.Publish)\n",
    "        \n",
    "    def Publish(self, context):\n",
    "        print()\n",
    "        print(f\"ContactReporter::Publish() called at time={context.get_time()}\")\n",
    "        contact_results = self.get_input_port().Eval(context)\n",
    "        \n",
    "        num_hydroelastic_contacts = contact_results.num_hydroelastic_contacts()\n",
    "        print(f\"num_hydroelastic_contacts() = {num_hydroelastic_contacts}\")\n",
    "        \n",
    "        for c in range(num_hydroelastic_contacts):\n",
    "            print()\n",
    "            print(f\"hydroelastic_contact_info({c}): {c}-th hydroelastic contact patch\")\n",
    "            hydroelastic_contact_info = contact_results.hydroelastic_contact_info(c)\n",
    "            \n",
    "            spatial_force = hydroelastic_contact_info.F_Ac_W()\n",
    "            print(f\"F_Ac_W(): spatial force (on body A, at centroid of contact surface, in World frame) = \\\\\")\n",
    "            print(f\"{spatial_force}\")\n",
    "                        \n",
    "            print(f\"contact_surface()\")\n",
    "            contact_surface = hydroelastic_contact_info.contact_surface()\n",
    "            num_faces = contact_surface.num_faces()\n",
    "            total_area = contact_surface.total_area()\n",
    "            centroid = contact_surface.centroid()\n",
    "            print(f\"total_area(): area of contact surface in m^2 = {total_area}\")\n",
    "            print(f\"num_faces(): number of polygons or triangles = {num_faces}\")\n",
    "            print(f\"centroid(): centroid (in World frame) = {centroid}\")        \n",
    "        \n",
    "        print()\n",
    "\n",
    "def create_scene_with_contact_report(time_step=1e-3, solver=\"tamsi\"):\n",
    "    builder, plant = create_scene_and_viz(time_step, solver)\n",
    "    \n",
    "    contact_reporter = builder.AddSystem(HydroelasticContactReporter())    \n",
    "    builder.Connect(plant.get_contact_results_output_port(),\n",
    "                    contact_reporter.get_input_port(0))\n",
    "        \n",
    "    return builder, plant"
   ]
  },
  {
   "cell_type": "markdown",
   "metadata": {},
   "source": [
    "## Run simulation and report contact results\n",
    "\n",
    "As shown below, the function `run_simulation_with_contact_report()` calls `ForcedPublish()` after the simulation has finished.\n",
    "\n",
    "The end of the code block calls `run_simulation_with_contact_report()` with `sim_time=0`. At time 0, the compliant box starts far above the rigid box. The printout will simply say there is no contact yet. It should look like this:\n",
    "\n",
    "```\n",
    "ContactReporter::Publish() called at time=0.0\n",
    "num_hydroelastic_contacts() = 0\n",
    "```"
   ]
  },
  {
   "cell_type": "code",
   "execution_count": 12,
   "metadata": {},
   "outputs": [
    {
     "name": "stdout",
     "output_type": "stream",
     "text": [
      "\n",
      "ContactReporter::Publish() called at time=0.0\n",
      "num_hydroelastic_contacts() = 0\n",
      "\n"
     ]
    }
   ],
   "source": [
    "from pydrake.systems.analysis import Simulator\n",
    "\n",
    "def run_simulation_with_contact_report(sim_time, time_step=1e-3, solver=\"tamsi\"):\n",
    "    builder, plant = create_scene_with_contact_report(time_step, solver)\n",
    "    \n",
    "    diagram = builder.Build()\n",
    "    \n",
    "    simulator = Simulator(diagram)\n",
    "    simulator.Initialize()\n",
    "    simulator.set_target_realtime_rate(1.)\n",
    "    \n",
    "    meshcat.StartRecording(frames_per_second=256.0)\n",
    "    simulator.AdvanceTo(sim_time)\n",
    "    meshcat.StopRecording()\n",
    "\n",
    "    # Forced publish after the simulation has finished.\n",
    "    diagram.ForcedPublish(simulator.get_context())\n",
    "    \n",
    "\n",
    "run_simulation_with_contact_report(sim_time=0)\n",
    "meshcat.PublishRecording()"
   ]
  },
  {
   "cell_type": "markdown",
   "metadata": {},
   "source": [
    "We will run it again for 1 second simulated time. Since we will call `meshcat.PublishRecording()` on the second line, it will look like we drop the compliant box twice. The first animation is directly from the simulation, and the repeated animation is from the playback. You can zoom-in and slow down the playback in MeshCat tab (set `timeScale` to 0.1) to carefully observe dynamics.\n",
    "\n",
    "After running the code below, you should see the spatial force `F_Ac_W` consisting of the torque `tau` and the force `f`. The force `f=[-1.4698008107796352, 1.2910859070622505, 9.190361581929913]` has the Z component about 9.19 newtons. It is less than 9.81 newtons, which is the gravity force acting on the compliant box with mass 1kg. This is because the compliant box is still rocking back and forth at the 1-second simulated time."
   ]
  },
  {
   "cell_type": "code",
   "execution_count": 13,
   "metadata": {},
   "outputs": [
    {
     "name": "stdout",
     "output_type": "stream",
     "text": [
      "\n",
      "ContactReporter::Publish() called at time=1.0\n",
      "num_hydroelastic_contacts() = 1\n",
      "\n",
      "hydroelastic_contact_info(0): 0-th hydroelastic contact patch\n",
      "F_Ac_W(): spatial force (on body A, at centroid of contact surface, in World frame) = \\\n",
      "SpatialForce(\n",
      "  tau=[4.036986744178025e-07, 5.193892648279854e-07, 0.00011367920819944428],\n",
      "  f=[-1.4698008107796352, 1.2910859070622505, 9.190361581929913],\n",
      ")\n",
      "contact_surface()\n",
      "total_area(): area of contact surface in m^2 = 0.0014024481715244023\n",
      "num_faces(): number of polygons or triangles = 4\n",
      "centroid(): centroid (in World frame) = [ 0.0448088  -0.03969409  0.        ]\n",
      "\n"
     ]
    }
   ],
   "source": [
    "run_simulation_with_contact_report(sim_time=1)\n",
    "meshcat.PublishRecording()"
   ]
  },
  {
   "cell_type": "markdown",
   "metadata": {},
   "source": [
    "In the next code block, you will run the simulation for 10 seconds to steady state, and you should see `f.Z()` around 9.81 newtons equal to the gravity force:\n",
    "\n",
    ">   f=[-2.0888656741505614e-05, 2.0072096007090746e-05, 9.809999999863855],\n",
    "\n",
    "**World coordinates?**"
   ]
  },
  {
   "cell_type": "code",
   "execution_count": 14,
   "metadata": {},
   "outputs": [
    {
     "name": "stdout",
     "output_type": "stream",
     "text": [
      "\n",
      "ContactReporter::Publish() called at time=10.0\n",
      "num_hydroelastic_contacts() = 1\n",
      "\n",
      "hydroelastic_contact_info(0): 0-th hydroelastic contact patch\n",
      "F_Ac_W(): spatial force (on body A, at centroid of contact surface, in World frame) = \\\n",
      "SpatialForce(\n",
      "  tau=[-5.659221995885089e-06, -5.963533144012767e-06, 2.8882880887638432e-12],\n",
      "  f=[-2.0888656741505614e-05, 2.0072096007090746e-05, 9.809999999863855],\n",
      ")\n",
      "contact_surface()\n",
      "total_area(): area of contact surface in m^2 = 0.020000000000000004\n",
      "num_faces(): number of polygons or triangles = 17\n",
      "centroid(): centroid (in World frame) = [ 1.87675141e-06  1.32313266e-05 -8.32667268e-17]\n",
      "\n"
     ]
    }
   ],
   "source": [
    "run_simulation_with_contact_report(sim_time=10)\n",
    "meshcat.PublishRecording()"
   ]
  },
  {
   "cell_type": "markdown",
   "metadata": {},
   "source": [
    "# Visualize contact results\n",
    "\n",
    "To visualize contact results, we will add `ContactVisualizer` to `Diagram` of the previous section.\n",
    "\n",
    "The following function `create_scene_with_contact_report_and_viz()` adds `ContactVisualizer` to `DiagramBuilder` using `MultibodyPlant` and `meshcat`.\n",
    "\n",
    "With `newtons_per_meter= 2e1`, it will draw a red arrow of length 1 meter for each force of 20 newtons. With `newtons_meters_per_meter= 1e-1`, it will draw a blue arrow of length 1 meter for each torque of 0.1 newton\\*meters."
   ]
  },
  {
   "cell_type": "code",
   "execution_count": 15,
   "metadata": {},
   "outputs": [],
   "source": [
    "from pydrake.multibody.meshcat import ContactVisualizer, ContactVisualizerParams\n",
    "\n",
    "\n",
    "def create_scene_with_contact_report_and_viz(time_step=1e-3, solver=\"tamsi\"):\n",
    "    builder, plant = create_scene_with_contact_report(time_step, solver)\n",
    "    \n",
    "    contact_viz = ContactVisualizer.AddToBuilder(\n",
    "        builder, plant, meshcat,\n",
    "        ContactVisualizerParams(\n",
    "            publish_period= 1.0 / 256.0,\n",
    "            newtons_per_meter= 2e1,\n",
    "            newton_meters_per_meter= 1e-1))\n",
    "\n",
    "    return builder, plant, contact_viz"
   ]
  },
  {
   "cell_type": "markdown",
   "metadata": {},
   "source": [
    "## Run simulation with contact visualization\n",
    "\n",
    "The following code will run the simulation and show results similar to the following picture. The red arrow represents the force `f`, and the blue arrow represents the torque `tau`. You should see the contact patch moving around together with the force and torque vectors. At the end of simulation, it will also report contact result numerically. \n",
    "\n",
    "![CompliantRigidBoxWithContactForceAt8s](./images/compliant_rigid_box_contact_force_8s.png)\n",
    "\n"
   ]
  },
  {
   "cell_type": "code",
   "execution_count": 16,
   "metadata": {},
   "outputs": [
    {
     "name": "stdout",
     "output_type": "stream",
     "text": [
      "\n",
      "ContactReporter::Publish() called at time=6.0\n",
      "num_hydroelastic_contacts() = 1\n",
      "\n",
      "hydroelastic_contact_info(0): 0-th hydroelastic contact patch\n",
      "F_Ac_W(): spatial force (on body A, at centroid of contact surface, in World frame) = \\\n",
      "SpatialForce(\n",
      "  tau=[-0.0003021826009501072, 0.0008127015304672802, 1.6162165193418093e-13],\n",
      "  f=[0.0029876260710093097, 0.0010618270221701494, 9.809999983916276],\n",
      ")\n",
      "contact_surface()\n",
      "total_area(): area of contact surface in m^2 = 0.02000000000003324\n",
      "num_faces(): number of polygons or triangles = 17\n",
      "centroid(): centroid (in World frame) = [1.87739912e-06 1.32315594e-05 2.77555756e-17]\n",
      "\n"
     ]
    }
   ],
   "source": [
    "from pydrake.systems.analysis import Simulator\n",
    "\n",
    "def run_simulation_with_contact_report_and_viz(sim_time, time_step=1e-3, solver=\"tamsi\"):\n",
    "    builder, plant, contact_viz = create_scene_with_contact_report_and_viz(time_step, solver)\n",
    "    \n",
    "    diagram = builder.Build()\n",
    "    \n",
    "    simulator = Simulator(diagram)\n",
    "    simulator.Initialize()\n",
    "    simulator.set_target_realtime_rate(1)\n",
    "    \n",
    "    meshcat.StartRecording(frames_per_second=256.0)\n",
    "    simulator.AdvanceTo(sim_time)\n",
    "    meshcat.StopRecording()\n",
    "\n",
    "    # Numerically report contact results at the end of simulation.\n",
    "    diagram.ForcedPublish(simulator.get_context())\n",
    "\n",
    "    \n",
    "run_simulation_with_contact_report_and_viz(sim_time=6)"
   ]
  },
  {
   "cell_type": "markdown",
   "metadata": {},
   "source": [
    "## Playback recording to appreciate dynamics\n",
    "\n",
    "After running the code below, playback with `timeScale` = 0.1 or lower to appreciate dynamics. You should see the force and torque vectors oscillate synchronously with the rocking compliant box.\n",
    "\n"
   ]
  },
  {
   "cell_type": "code",
   "execution_count": 17,
   "metadata": {},
   "outputs": [],
   "source": [
    "# In the current version, recording can show contact forces and torques well;\n",
    "# however, contact surfaces are not recorded properly into MeshcatAnimation.\n",
    "# For now, we delete contact surfaces to prevent confusion.\n",
    "meshcat.Delete(\"/drake/contact_forces/hydroelastic/compliant_box+rigid_box_link/contact_surface\");\n",
    "\n",
    "meshcat.PublishRecording()"
   ]
  },
  {
   "cell_type": "markdown",
   "metadata": {},
   "source": [
    "# Extra"
   ]
  },
  {
   "cell_type": "code",
   "execution_count": 18,
   "metadata": {},
   "outputs": [],
   "source": [
    "# html_file = open(\"/home/damrongguoy/2023-04-04_record_hydro_box_with_contact_results.html\", \"wt\")\n",
    "# html_file.write(meshcat.StaticHtml())\n",
    "# html_file.close()"
   ]
  },
  {
   "cell_type": "code",
   "execution_count": 19,
   "metadata": {},
   "outputs": [],
   "source": [
    "# run_simulation_with_contact_report_and_viz(sim_time=0.405)\n",
    "# meshcat.PublishRecording()"
   ]
  },
  {
   "cell_type": "markdown",
   "metadata": {},
   "source": [
    "## Further reading\n",
    "\n",
    "* [hydroelastic contact user guide](https://drake.mit.edu/doxygen_cxx/group__hydroelastic__user__guide.html)"
   ]
  }
 ],
 "metadata": {
  "kernelspec": {
   "display_name": "Python 3",
   "language": "python",
   "name": "python3"
  },
  "language_info": {
   "codemirror_mode": {
    "name": "ipython",
    "version": 3
   },
   "file_extension": ".py",
   "mimetype": "text/x-python",
   "name": "python",
   "nbconvert_exporter": "python",
   "pygments_lexer": "ipython3",
   "version": "3.8.10"
  }
 },
 "nbformat": 4,
 "nbformat_minor": 2
}
